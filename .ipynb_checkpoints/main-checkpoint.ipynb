{
 "cells": [
  {
   "cell_type": "code",
   "execution_count": 4,
   "id": "53b09125",
   "metadata": {},
   "outputs": [],
   "source": [
    "import os\n",
    "import cv2\n",
    "import numpy as np\n",
    "from skimage.feature import hog\n",
    "from skimage import io\n",
    "import numpy as np\n",
    "from sklearn.model_selection import train_test_split\n",
    "from sklearn import svm\n",
    "from sklearn.metrics import accuracy_score\n",
    "from sklearn.decomposition import PCA\n",
    "import matplotlib.pyplot as plt\n"
   ]
  },
  {
   "cell_type": "code",
   "execution_count": 5,
   "id": "68a40ff9",
   "metadata": {},
   "outputs": [],
   "source": [
    "\n",
    "# define the path to the input images\n",
    "input_path = r\"C:\\Users\\user\\Documents\\GitHub\\Hand Gesture\\Hand-Gesture\\input\"\n",
    "\n",
    "# define the path to the output preprocessed images\n",
    "output_path = r\"C:\\Users\\user\\Documents\\GitHub\\Hand Gesture\\Hand-Gesture\\output\"\n",
    "\n",
    "# define the target size of the preprocessed images\n",
    "target_size = (64, 64)\n",
    "\n",
    "# define the preprocessing functions\n",
    "\n",
    "\n",
    "def convert_to_gray(img):\n",
    "    gray = cv2.cvtColor(img, cv2.COLOR_BGR2GRAY)\n",
    "    gray = cv2.convertScaleAbs(gray)\n",
    "    return gray\n",
    "\n",
    "\n",
    "def apply_gaussian_blur(img):\n",
    "    blurred = cv2.GaussianBlur(img, (5, 5), 0)\n",
    "    return blurred\n",
    "\n",
    "\n",
    "def apply_threshold(img):\n",
    "    _, thresh = cv2.threshold(\n",
    "        img, 0, 255, cv2.THRESH_BINARY_INV+cv2.THRESH_OTSU)\n",
    "    return thresh\n",
    "\n",
    "\n",
    "def find_contours(img):\n",
    "    contours, hierarchy = cv2.findContours(\n",
    "        img, cv2.RETR_TREE, cv2.CHAIN_APPROX_SIMPLE)\n",
    "    return contours, hierarchy\n",
    "\n",
    "\n",
    "def find_largest_contour(contours):\n",
    "    max_contour = max(contours, key=cv2.contourArea)\n",
    "    return max_contour\n",
    "\n",
    "\n",
    "def create_mask(img, contour):\n",
    "    mask = cv2.drawContours(np.zeros_like(\n",
    "        img), [contour], 0, (255, 255, 255), -1)\n",
    "    return mask\n",
    "\n",
    "\n",
    "def apply_mask(img, mask):\n",
    "    masked_image = cv2.bitwise_and(img, img, mask=mask)\n",
    "    return masked_image\n",
    "\n",
    "\n",
    "def resize_image(img, size):\n",
    "    resized = cv2.resize(img, size, interpolation=cv2.INTER_AREA)\n",
    "    return resized\n",
    "\n",
    "\n",
    "def normalize_image(img):\n",
    "    normalized = img.astype(\"float32\") / 255.0\n",
    "    return normalized\n",
    "\n",
    "\n",
    "def get_hog_features(img):\n",
    "    win_size = (64, 64)\n",
    "    block_size = (16, 16)\n",
    "    block_stride = (8, 8)\n",
    "    cell_size = (8, 8)\n",
    "    nbins = 9\n",
    "    hog = cv2.HOGDescriptor(win_size, block_size,\n",
    "                            block_stride, cell_size, nbins)\n",
    "    hog_feats = hog.compute(img)\n",
    "    return hog_feats\n",
    "\n",
    "\n",
    "def get_sift_features(img):\n",
    "    sift = cv2.SIFT_create()\n",
    "    keypoints, descriptors = sift.detectAndCompute(img, None)\n",
    "    return descriptors\n",
    "\n",
    "def split_dataset(X, y):\n",
    "    X_train, X_test, y_train, y_test = train_test_split(X, y, test_size=0.2, random_state=42)\n",
    "    return X_train, X_test, y_train, y_test\n",
    "\n",
    "def svm_model(X_train, y_train, X_test):\n",
    "    clf = svm.SVC(kernel='linear')\n",
    "    clf.fit(X_train, y_train)\n",
    "    y_pred = clf.predict(X_test)\n",
    "    return y_pred\n",
    "    \n",
    "def calc_accuracy(y_test, y_pred):\n",
    "    accuracy = accuracy_score(y_test, y_pred)\n",
    "    return accuracy"
   ]
  },
  {
   "cell_type": "code",
   "execution_count": 6,
   "id": "6bd41b2a",
   "metadata": {},
   "outputs": [],
   "source": [
    "#preprocessing phase        \n",
    "def preprocess(img_path):\n",
    "    image = io.imread(img_path, as_gray=True)\n",
    "    blurred = apply_gaussian_blur(image)\n",
    "    thresh = apply_threshold(blurred)\n",
    "    contours, hierarchy = find_contours(thresh)\n",
    "    max_contour = find_largest_contour(contours)\n",
    "    mask = create_mask(gray, max_contour)\n",
    "    masked_image = apply_mask(img, mask)\n",
    "    resized = resize_image(masked_image, target_size)\n",
    "    normalized = normalize_image(resized)\n",
    "    \n",
    "    return normalized\n"
   ]
  },
  {
   "cell_type": "code",
   "execution_count": 22,
   "id": "adef294e",
   "metadata": {
    "scrolled": false
   },
   "outputs": [
    {
     "name": "stdout",
     "output_type": "stream",
     "text": [
      "dataset/5\n",
      "dataset/3\n",
      "dataset/0\n",
      "dataset/4\n",
      "dataset/1\n",
      "dataset/2\n",
      "Feature Extraction Finished\n"
     ]
    }
   ],
   "source": [
    "# set the parameters for HoG\n",
    "orientations = 9\n",
    "pixels_per_cell = (25, 25)\n",
    "cells_per_block = (3, 3)\n",
    "visualize = False\n",
    "transform_sqrt = False\n",
    "normalize = True\n",
    "load_features_from_file=False\n",
    "save_feature=False\n",
    "all_feats = []\n",
    "all_imgs = []\n",
    "\n",
    "\n",
    "image_extensions = ['.jpg', '.jpeg', '.png', '.bmp', '.gif']\n",
    "\n",
    "if(load_features_from_file != True):\n",
    "    for root, dirs, files in os.walk('dataset'):\n",
    "        for dir in dirs:\n",
    "            print(os.path.join(root, dir))\n",
    "            for file in os.listdir(os.path.join(root, dir)):\n",
    "                if any(file.lower().endswith(extension) for extension in image_extensions):\n",
    "                    img_path = os.path.join(root, dir, file)\n",
    "                    label = np.array([int(dir)])\n",
    "                    \n",
    "                    # normalized = preprocess(img_path)\n",
    "                    normalized = io.imread(img_path, as_gray=True)\n",
    "                    #calculate the HoG features for the image\n",
    "                    hog_result = hog(normalized, orientations=orientations, pixels_per_cell=pixels_per_cell,\n",
    "                        cells_per_block=cells_per_block, visualize=visualize,\n",
    "                        transform_sqrt=transform_sqrt, block_norm='L2-Hys', feature_vector=True)\n",
    "                    # unpack the HoG result into features and hog_image variables if necessary\n",
    "                    if visualize:\n",
    "                        features, hog_image = hog_result\n",
    "                    else:\n",
    "                        features = hog_result\n",
    "                    feats = np.concatenate((label, features.ravel()))\n",
    "                    all_feats.append(feats)\n",
    "           \n",
    "else:\n",
    "    features_array = np.loadtxt(\"hog_features.txt\")\n",
    "\n",
    "features_array = np.array(all_feats, dtype=object)\n",
    "\n",
    "if(save_feature):    \n",
    "    # save the features to a file\n",
    "    np.savetxt(\"hog_features.txt\", features_array)\n",
    "\n",
    "\n",
    "print(\"Feature Extraction Finished\")"
   ]
  },
  {
   "cell_type": "code",
   "execution_count": 23,
   "id": "ee986d0a",
   "metadata": {},
   "outputs": [
    {
     "data": {
      "image/png": "[encoded data removed]",
      "text/plain": [
       "<Figure size 640x480 with 1 Axes>"
      ]
     },
     "metadata": {},
     "output_type": "display_data"
    },
    {
     "ename": "KeyboardInterrupt",
     "evalue": "",
     "output_type": "error",
     "traceback": [
      "\u001b[0;31m---------------------------------------------------------------------------\u001b[0m",
      "\u001b[0;31mKeyboardInterrupt\u001b[0m                         Traceback (most recent call last)",
      "Cell \u001b[0;32mIn [23], line 11\u001b[0m\n\u001b[1;32m      9\u001b[0m pca \u001b[38;5;241m=\u001b[39m PCA(n_components\u001b[38;5;241m=\u001b[39m\u001b[38;5;241m250\u001b[39m)  \u001b[38;5;66;03m# set the number of components to keep\u001b[39;00m\n\u001b[1;32m     10\u001b[0m Y \u001b[38;5;241m=\u001b[39m np\u001b[38;5;241m.\u001b[39marray(features_array[:, \u001b[38;5;241m0\u001b[39m])\u001b[38;5;241m.\u001b[39mastype(\u001b[38;5;124m'\u001b[39m\u001b[38;5;124mint32\u001b[39m\u001b[38;5;124m'\u001b[39m)\n\u001b[0;32m---> 11\u001b[0m X \u001b[38;5;241m=\u001b[39m \u001b[43mpca\u001b[49m\u001b[38;5;241;43m.\u001b[39;49m\u001b[43mfit_transform\u001b[49m\u001b[43m(\u001b[49m\u001b[43mfeatures_array\u001b[49m\u001b[43m[\u001b[49m\u001b[43m:\u001b[49m\u001b[43m,\u001b[49m\u001b[43m \u001b[49m\u001b[38;5;241;43m1\u001b[39;49m\u001b[43m:\u001b[49m\u001b[43m]\u001b[49m\u001b[43m)\u001b[49m\n\u001b[1;32m     13\u001b[0m \u001b[38;5;66;03m# splitting data into train and test\u001b[39;00m\n\u001b[1;32m     14\u001b[0m X_train, X_test, y_train, y_test \u001b[38;5;241m=\u001b[39m split_dataset(X, Y)\n",
      "File \u001b[0;32m/usr/local/lib/python3.9/dist-packages/sklearn/utils/_set_output.py:140\u001b[0m, in \u001b[0;36m_wrap_method_output.<locals>.wrapped\u001b[0;34m(self, X, *args, **kwargs)\u001b[0m\n\u001b[1;32m    138\u001b[0m \u001b[38;5;129m@wraps\u001b[39m(f)\n\u001b[1;32m    139\u001b[0m \u001b[38;5;28;01mdef\u001b[39;00m \u001b[38;5;21mwrapped\u001b[39m(\u001b[38;5;28mself\u001b[39m, X, \u001b[38;5;241m*\u001b[39margs, \u001b[38;5;241m*\u001b[39m\u001b[38;5;241m*\u001b[39mkwargs):\n\u001b[0;32m--> 140\u001b[0m     data_to_wrap \u001b[38;5;241m=\u001b[39m \u001b[43mf\u001b[49m\u001b[43m(\u001b[49m\u001b[38;5;28;43mself\u001b[39;49m\u001b[43m,\u001b[49m\u001b[43m \u001b[49m\u001b[43mX\u001b[49m\u001b[43m,\u001b[49m\u001b[43m \u001b[49m\u001b[38;5;241;43m*\u001b[39;49m\u001b[43margs\u001b[49m\u001b[43m,\u001b[49m\u001b[43m \u001b[49m\u001b[38;5;241;43m*\u001b[39;49m\u001b[38;5;241;43m*\u001b[39;49m\u001b[43mkwargs\u001b[49m\u001b[43m)\u001b[49m\n\u001b[1;32m    141\u001b[0m     \u001b[38;5;28;01mif\u001b[39;00m \u001b[38;5;28misinstance\u001b[39m(data_to_wrap, \u001b[38;5;28mtuple\u001b[39m):\n\u001b[1;32m    142\u001b[0m         \u001b[38;5;66;03m# only wrap the first output for cross decomposition\u001b[39;00m\n\u001b[1;32m    143\u001b[0m         \u001b[38;5;28;01mreturn\u001b[39;00m (\n\u001b[1;32m    144\u001b[0m             _wrap_data_with_container(method, data_to_wrap[\u001b[38;5;241m0\u001b[39m], X, \u001b[38;5;28mself\u001b[39m),\n\u001b[1;32m    145\u001b[0m             \u001b[38;5;241m*\u001b[39mdata_to_wrap[\u001b[38;5;241m1\u001b[39m:],\n\u001b[1;32m    146\u001b[0m         )\n",
      "File \u001b[0;32m/usr/local/lib/python3.9/dist-packages/sklearn/decomposition/_pca.py:462\u001b[0m, in \u001b[0;36mPCA.fit_transform\u001b[0;34m(self, X, y)\u001b[0m\n\u001b[1;32m    439\u001b[0m \u001b[38;5;124;03m\"\"\"Fit the model with X and apply the dimensionality reduction on X.\u001b[39;00m\n\u001b[1;32m    440\u001b[0m \n\u001b[1;32m    441\u001b[0m \u001b[38;5;124;03mParameters\u001b[39;00m\n\u001b[0;32m   (...)\u001b[0m\n\u001b[1;32m    458\u001b[0m \u001b[38;5;124;03mC-ordered array, use 'np.ascontiguousarray'.\u001b[39;00m\n\u001b[1;32m    459\u001b[0m \u001b[38;5;124;03m\"\"\"\u001b[39;00m\n\u001b[1;32m    460\u001b[0m \u001b[38;5;28mself\u001b[39m\u001b[38;5;241m.\u001b[39m_validate_params()\n\u001b[0;32m--> 462\u001b[0m U, S, Vt \u001b[38;5;241m=\u001b[39m \u001b[38;5;28;43mself\u001b[39;49m\u001b[38;5;241;43m.\u001b[39;49m\u001b[43m_fit\u001b[49m\u001b[43m(\u001b[49m\u001b[43mX\u001b[49m\u001b[43m)\u001b[49m\n\u001b[1;32m    463\u001b[0m U \u001b[38;5;241m=\u001b[39m U[:, : \u001b[38;5;28mself\u001b[39m\u001b[38;5;241m.\u001b[39mn_components_]\n\u001b[1;32m    465\u001b[0m \u001b[38;5;28;01mif\u001b[39;00m \u001b[38;5;28mself\u001b[39m\u001b[38;5;241m.\u001b[39mwhiten:\n\u001b[1;32m    466\u001b[0m     \u001b[38;5;66;03m# X_new = X * V / S * sqrt(n_samples) = U * sqrt(n_samples)\u001b[39;00m\n",
      "File \u001b[0;32m/usr/local/lib/python3.9/dist-packages/sklearn/decomposition/_pca.py:514\u001b[0m, in \u001b[0;36mPCA._fit\u001b[0;34m(self, X)\u001b[0m\n\u001b[1;32m    512\u001b[0m     \u001b[38;5;28;01mreturn\u001b[39;00m \u001b[38;5;28mself\u001b[39m\u001b[38;5;241m.\u001b[39m_fit_full(X, n_components)\n\u001b[1;32m    513\u001b[0m \u001b[38;5;28;01melif\u001b[39;00m \u001b[38;5;28mself\u001b[39m\u001b[38;5;241m.\u001b[39m_fit_svd_solver \u001b[38;5;129;01min\u001b[39;00m [\u001b[38;5;124m\"\u001b[39m\u001b[38;5;124marpack\u001b[39m\u001b[38;5;124m\"\u001b[39m, \u001b[38;5;124m\"\u001b[39m\u001b[38;5;124mrandomized\u001b[39m\u001b[38;5;124m\"\u001b[39m]:\n\u001b[0;32m--> 514\u001b[0m     \u001b[38;5;28;01mreturn\u001b[39;00m \u001b[38;5;28;43mself\u001b[39;49m\u001b[38;5;241;43m.\u001b[39;49m\u001b[43m_fit_truncated\u001b[49m\u001b[43m(\u001b[49m\u001b[43mX\u001b[49m\u001b[43m,\u001b[49m\u001b[43m \u001b[49m\u001b[43mn_components\u001b[49m\u001b[43m,\u001b[49m\u001b[43m \u001b[49m\u001b[38;5;28;43mself\u001b[39;49m\u001b[38;5;241;43m.\u001b[39;49m\u001b[43m_fit_svd_solver\u001b[49m\u001b[43m)\u001b[49m\n",
      "File \u001b[0;32m/usr/local/lib/python3.9/dist-packages/sklearn/decomposition/_pca.py:605\u001b[0m, in \u001b[0;36mPCA._fit_truncated\u001b[0;34m(self, X, n_components, svd_solver)\u001b[0m\n\u001b[1;32m    603\u001b[0m \u001b[38;5;66;03m# Center data\u001b[39;00m\n\u001b[1;32m    604\u001b[0m \u001b[38;5;28mself\u001b[39m\u001b[38;5;241m.\u001b[39mmean_ \u001b[38;5;241m=\u001b[39m np\u001b[38;5;241m.\u001b[39mmean(X, axis\u001b[38;5;241m=\u001b[39m\u001b[38;5;241m0\u001b[39m)\n\u001b[0;32m--> 605\u001b[0m X \u001b[38;5;241m-\u001b[39m\u001b[38;5;241m=\u001b[39m \u001b[38;5;28mself\u001b[39m\u001b[38;5;241m.\u001b[39mmean_\n\u001b[1;32m    607\u001b[0m \u001b[38;5;28;01mif\u001b[39;00m svd_solver \u001b[38;5;241m==\u001b[39m \u001b[38;5;124m\"\u001b[39m\u001b[38;5;124marpack\u001b[39m\u001b[38;5;124m\"\u001b[39m:\n\u001b[1;32m    608\u001b[0m     v0 \u001b[38;5;241m=\u001b[39m _init_arpack_v0(\u001b[38;5;28mmin\u001b[39m(X\u001b[38;5;241m.\u001b[39mshape), random_state)\n",
      "\u001b[0;31mKeyboardInterrupt\u001b[0m: "
     ]
    }
   ],
   "source": [
    "# pca = PCA().fit(features_array[:, 1:])\n",
    "\n",
    "# plt.plot(np.cumsum(pca.explained_variance_ratio_))\n",
    "# plt.xlabel('Number of components')\n",
    "# plt.ylabel('Cumulative explained variance')\n",
    "# plt.show()\n",
    "\n",
    "pca = PCA(n_components=500)\n",
    "Y = np.array(features_array[:, 0]).astype('int32')\n",
    "X = pca.fit_transform(features_array[:, 1:])\n",
    "\n",
    "# splitting data into train and test\n",
    "X_train, X_test, y_train, y_test = split_dataset(X, Y)\n",
    "\n",
    "print(X_train.shape)\n",
    "print(y_train.shape)\n",
    "\n",
    "# apply SVM\n",
    "y_pred = svm_model(X_train, y_train, X_test)\n",
    "\n",
    "print(\"SVM Finished\")"
   ]
  },
  {
   "cell_type": "code",
   "execution_count": 21,
   "id": "36571598",
   "metadata": {},
   "outputs": [
    {
     "name": "stdout",
     "output_type": "stream",
     "text": [
      "0.7205479452054795\n"
     ]
    }
   ],
   "source": [
    "# calc accuracy\n",
    "accuracy = calc_accuracy(y_test, y_pred)\n",
    "print(accuracy)"
   ]
  },
  {
   "cell_type": "code",
   "execution_count": null,
   "id": "eca88790",
   "metadata": {},
   "outputs": [],
   "source": []
  }
 ],
 "metadata": {
  "kernelspec": {
   "display_name": "Python 3 (ipykernel)",
   "language": "python",
   "name": "python3"
  },
  "language_info": {
   "codemirror_mode": {
    "name": "ipython",
    "version": 3
   },
   "file_extension": ".py",
   "mimetype": "text/x-python",
   "name": "python",
   "nbconvert_exporter": "python",
   "pygments_lexer": "ipython3",
   "version": "3.9.2"
  }
 },
 "nbformat": 4,
 "nbformat_minor": 5
}
